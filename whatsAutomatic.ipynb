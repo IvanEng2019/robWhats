{
 "cells": [
  {
   "cell_type": "raw",
   "id": "346fa4b9",
   "metadata": {},
   "source": [
    "# Objetivo: ENVIAR MENSAGENS AUTOMÁTICAS NO WHATS USANDO PYTHON E SELENIUM\n",
    "\n",
    "# Passo 01 - Importar BD contendo as colunas com os nomes, numeros (PPEECCCCCCCC) e as mensagens \n",
    "# Passo 02 - Logar no whatsapWeb no chrome\n",
    "# Passo 03 - Ler e pegar os dados do BD importado e enviar a mensagem"
   ]
  },
  {
   "cell_type": "code",
   "execution_count": 1,
   "id": "856c373c",
   "metadata": {},
   "outputs": [
    {
     "data": {
      "text/html": [
       "<div>\n",
       "<style scoped>\n",
       "    .dataframe tbody tr th:only-of-type {\n",
       "        vertical-align: middle;\n",
       "    }\n",
       "\n",
       "    .dataframe tbody tr th {\n",
       "        vertical-align: top;\n",
       "    }\n",
       "\n",
       "    .dataframe thead th {\n",
       "        text-align: right;\n",
       "    }\n",
       "</style>\n",
       "<table border=\"1\" class=\"dataframe\">\n",
       "  <thead>\n",
       "    <tr style=\"text-align: right;\">\n",
       "      <th></th>\n",
       "      <th>Pessoa</th>\n",
       "      <th>Número</th>\n",
       "      <th>Mensagem</th>\n",
       "    </tr>\n",
       "  </thead>\n",
       "  <tbody>\n",
       "    <tr>\n",
       "      <th>0</th>\n",
       "      <td>Márcia</td>\n",
       "      <td>5535XXXXXXXX</td>\n",
       "      <td>Boa noite!</td>\n",
       "    </tr>\n",
       "    <tr>\n",
       "      <th>1</th>\n",
       "      <td>Leo</td>\n",
       "      <td>5535YYYYYYYY</td>\n",
       "      <td>Boa noite!</td>\n",
       "    </tr>\n",
       "    <tr>\n",
       "      <th>2</th>\n",
       "      <td>Márcia</td>\n",
       "      <td>5535XXXXXXXX</td>\n",
       "      <td>Tudo bem?</td>\n",
       "    </tr>\n",
       "    <tr>\n",
       "      <th>3</th>\n",
       "      <td>Leo</td>\n",
       "      <td>5535XXXXXXXX</td>\n",
       "      <td>Tudo bem?</td>\n",
       "    </tr>\n",
       "  </tbody>\n",
       "</table>\n",
       "</div>"
      ],
      "text/plain": [
       "   Pessoa        Número     Mensagem\n",
       "0  Márcia  5535XXXXXXXX  Boa noite! \n",
       "1     Leo  5535YYYYYYYY  Boa noite! \n",
       "2  Márcia  5535XXXXXXXX    Tudo bem?\n",
       "3     Leo  5535XXXXXXXX    Tudo bem?"
      ]
     },
     "metadata": {},
     "output_type": "display_data"
    }
   ],
   "source": [
    "# Passo 01 - Importar BD contendo o nome, numero e a mensagem a ser enviada\n",
    "\n",
    "from selenium import webdriver\n",
    "from selenium.webdriver.common.keys import Keys\n",
    "import pandas as pd\n",
    "import time\n",
    "import urllib #Codifica a menssagem\n",
    "\n",
    "contatos_df = pd.read_excel(\"Enviar.xlsx\")\n",
    "#display(contatos_df)"
   ]
  },
  {
   "cell_type": "code",
   "execution_count": null,
   "id": "ab990fae",
   "metadata": {},
   "outputs": [],
   "source": [
    "# Passo 02 - Logar no whatsapweb\n",
    "\n",
    "navegador = webdriver.Chrome()\n",
    "navegador.get(\"https://web.whatsapp.com/\")\n",
    "\n",
    "# Abrindo o QRcode do whats o usuario deverá fazer a leitura pelo phone\n",
    "# Se o tamanho len() da lista de elementos \"Side\"  for menor do que 1,\n",
    "# Quer dizer o ID “side” não foi encontrato, ou seja, não estamos logado no WhatsApp.\n",
    "# Assim devera aguardar 1 segundo e fazer novamente a verificação \n",
    "# O laço é finalizado quando o o \"slide\" é econtrado  e  portando o login no WhatsApp for completado.\"\n",
    "\n",
    "while len(navegador.find_elements_by_id(\"side\")) < 1:\n",
    "    time.sleep(1)\n",
    "\n",
    "# com o login feito no whatsappWeb\n",
    "# Passo 02 - Ler os dados do BD importado e enviar as msgs\n",
    "\n",
    "for i, mensagem in enumerate(contatos_df['Mensagem']): # Para cada mensagem do bd faz:\n",
    "    pessoa = contatos_df.loc[i, \"Pessoa\"] # Localiza o nome e atribui a pessoa\n",
    "    numero = contatos_df.loc[i, \"Número\"] # Localiza o numero da pessoa e atribui a numero\n",
    "    texto = urllib.parse.quote(f\"Oi {pessoa}! {mensagem}\") # codifica a mensagem formatada\n",
    "    link = f\"https://web.whatsapp.com/send?phone={numero}&text={texto}\"\n",
    "    navegador.get(link) # Entra na conversa do numero localizado com a msg\n",
    "    while len(navegador.find_elements_by_id(\"side\")) < 1: # Aguarda a pagina abrir completamente\n",
    "        time.sleep(1)\n",
    "        \n",
    "    navegador.find_element_by_xpath('//*[@id=\"main\"]/footer/div[1]/div/span[2]/div/div[2]/div[1]/div/div[2]').send_keys(Keys.ENTER) # Envia a mensagem\n",
    "    time.sleep(15)"
   ]
  },
  {
   "cell_type": "code",
   "execution_count": null,
   "id": "ddc2bdb0",
   "metadata": {},
   "outputs": [],
   "source": []
  }
 ],
 "metadata": {
  "kernelspec": {
   "display_name": "Python 3 (ipykernel)",
   "language": "python",
   "name": "python3"
  },
  "language_info": {
   "codemirror_mode": {
    "name": "ipython",
    "version": 3
   },
   "file_extension": ".py",
   "mimetype": "text/x-python",
   "name": "python",
   "nbconvert_exporter": "python",
   "pygments_lexer": "ipython3",
   "version": "3.9.7"
  }
 },
 "nbformat": 4,
 "nbformat_minor": 5
}
